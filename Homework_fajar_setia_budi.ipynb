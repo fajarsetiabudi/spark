{
  "cells": [
    {
      "cell_type": "markdown",
      "metadata": {
        "id": "n35C98um_h0d"
      },
      "source": [
        "Instalasi PySpark"
      ]
    },
    {
      "cell_type": "code",
      "execution_count": 3,
      "metadata": {
        "id": "4_Gd8H3b_mE3"
      },
      "outputs": [],
      "source": [
        "!apt-get install openjdk-8-jdk-headless -qq > /dev/null\n",
        "!wget -q https://archive.apache.org/dist/spark/spark-2.4.4/spark-2.4.4-bin-hadoop2.7.tgz\n",
        "!tar xf spark-2.4.4-bin-hadoop2.7.tgz\n",
        "!pip install -q findspark"
      ]
    },
    {
      "cell_type": "markdown",
      "metadata": {
        "id": "kKZMs0Yq_7bV"
      },
      "source": [
        "Set Pyspark Environment"
      ]
    },
    {
      "cell_type": "code",
      "execution_count": 4,
      "metadata": {
        "id": "c0sMku2r_9W2"
      },
      "outputs": [],
      "source": [
        "import os\n",
        "os.environ[\"JAVA_HOME\"] = \"/usr/lib/jvm/java-8-openjdk-amd64\"\n",
        "os.environ[\"SPARK_HOME\"] = \"/content/spark-2.4.4-bin-hadoop2.7\""
      ]
    },
    {
      "cell_type": "markdown",
      "metadata": {
        "id": "7K-G_Lu2CGQE"
      },
      "source": [
        "Import Pyspark Package"
      ]
    },
    {
      "cell_type": "code",
      "execution_count": 5,
      "metadata": {
        "id": "UHzX_tusAMpq"
      },
      "outputs": [],
      "source": [
        "import findspark\n",
        "findspark.init()\n",
        "from pyspark.sql import SparkSession\n",
        "from pyspark.sql.functions import *\n",
        "from pyspark.sql.types import *"
      ]
    },
    {
      "cell_type": "markdown",
      "metadata": {
        "id": "5_LtIyJVARyK"
      },
      "source": [
        "Upload File"
      ]
    },
    {
      "cell_type": "code",
      "execution_count": 6,
      "metadata": {
        "colab": {
          "base_uri": "https://localhost:8080/",
          "height": 73
        },
        "id": "7uHsSYU5ATe7",
        "outputId": "b5e8fd21-9f8a-4979-9784-1f7b31e6a159"
      },
      "outputs": [
        {
          "data": {
            "text/html": [
              "\n",
              "     <input type=\"file\" id=\"files-662105ea-e535-442a-8b89-5fe02b2bb90b\" name=\"files[]\" multiple disabled\n",
              "        style=\"border:none\" />\n",
              "     <output id=\"result-662105ea-e535-442a-8b89-5fe02b2bb90b\">\n",
              "      Upload widget is only available when the cell has been executed in the\n",
              "      current browser session. Please rerun this cell to enable.\n",
              "      </output>\n",
              "      <script>// Copyright 2017 Google LLC\n",
              "//\n",
              "// Licensed under the Apache License, Version 2.0 (the \"License\");\n",
              "// you may not use this file except in compliance with the License.\n",
              "// You may obtain a copy of the License at\n",
              "//\n",
              "//      http://www.apache.org/licenses/LICENSE-2.0\n",
              "//\n",
              "// Unless required by applicable law or agreed to in writing, software\n",
              "// distributed under the License is distributed on an \"AS IS\" BASIS,\n",
              "// WITHOUT WARRANTIES OR CONDITIONS OF ANY KIND, either express or implied.\n",
              "// See the License for the specific language governing permissions and\n",
              "// limitations under the License.\n",
              "\n",
              "/**\n",
              " * @fileoverview Helpers for google.colab Python module.\n",
              " */\n",
              "(function(scope) {\n",
              "function span(text, styleAttributes = {}) {\n",
              "  const element = document.createElement('span');\n",
              "  element.textContent = text;\n",
              "  for (const key of Object.keys(styleAttributes)) {\n",
              "    element.style[key] = styleAttributes[key];\n",
              "  }\n",
              "  return element;\n",
              "}\n",
              "\n",
              "// Max number of bytes which will be uploaded at a time.\n",
              "const MAX_PAYLOAD_SIZE = 100 * 1024;\n",
              "\n",
              "function _uploadFiles(inputId, outputId) {\n",
              "  const steps = uploadFilesStep(inputId, outputId);\n",
              "  const outputElement = document.getElementById(outputId);\n",
              "  // Cache steps on the outputElement to make it available for the next call\n",
              "  // to uploadFilesContinue from Python.\n",
              "  outputElement.steps = steps;\n",
              "\n",
              "  return _uploadFilesContinue(outputId);\n",
              "}\n",
              "\n",
              "// This is roughly an async generator (not supported in the browser yet),\n",
              "// where there are multiple asynchronous steps and the Python side is going\n",
              "// to poll for completion of each step.\n",
              "// This uses a Promise to block the python side on completion of each step,\n",
              "// then passes the result of the previous step as the input to the next step.\n",
              "function _uploadFilesContinue(outputId) {\n",
              "  const outputElement = document.getElementById(outputId);\n",
              "  const steps = outputElement.steps;\n",
              "\n",
              "  const next = steps.next(outputElement.lastPromiseValue);\n",
              "  return Promise.resolve(next.value.promise).then((value) => {\n",
              "    // Cache the last promise value to make it available to the next\n",
              "    // step of the generator.\n",
              "    outputElement.lastPromiseValue = value;\n",
              "    return next.value.response;\n",
              "  });\n",
              "}\n",
              "\n",
              "/**\n",
              " * Generator function which is called between each async step of the upload\n",
              " * process.\n",
              " * @param {string} inputId Element ID of the input file picker element.\n",
              " * @param {string} outputId Element ID of the output display.\n",
              " * @return {!Iterable<!Object>} Iterable of next steps.\n",
              " */\n",
              "function* uploadFilesStep(inputId, outputId) {\n",
              "  const inputElement = document.getElementById(inputId);\n",
              "  inputElement.disabled = false;\n",
              "\n",
              "  const outputElement = document.getElementById(outputId);\n",
              "  outputElement.innerHTML = '';\n",
              "\n",
              "  const pickedPromise = new Promise((resolve) => {\n",
              "    inputElement.addEventListener('change', (e) => {\n",
              "      resolve(e.target.files);\n",
              "    });\n",
              "  });\n",
              "\n",
              "  const cancel = document.createElement('button');\n",
              "  inputElement.parentElement.appendChild(cancel);\n",
              "  cancel.textContent = 'Cancel upload';\n",
              "  const cancelPromise = new Promise((resolve) => {\n",
              "    cancel.onclick = () => {\n",
              "      resolve(null);\n",
              "    };\n",
              "  });\n",
              "\n",
              "  // Wait for the user to pick the files.\n",
              "  const files = yield {\n",
              "    promise: Promise.race([pickedPromise, cancelPromise]),\n",
              "    response: {\n",
              "      action: 'starting',\n",
              "    }\n",
              "  };\n",
              "\n",
              "  cancel.remove();\n",
              "\n",
              "  // Disable the input element since further picks are not allowed.\n",
              "  inputElement.disabled = true;\n",
              "\n",
              "  if (!files) {\n",
              "    return {\n",
              "      response: {\n",
              "        action: 'complete',\n",
              "      }\n",
              "    };\n",
              "  }\n",
              "\n",
              "  for (const file of files) {\n",
              "    const li = document.createElement('li');\n",
              "    li.append(span(file.name, {fontWeight: 'bold'}));\n",
              "    li.append(span(\n",
              "        `(${file.type || 'n/a'}) - ${file.size} bytes, ` +\n",
              "        `last modified: ${\n",
              "            file.lastModifiedDate ? file.lastModifiedDate.toLocaleDateString() :\n",
              "                                    'n/a'} - `));\n",
              "    const percent = span('0% done');\n",
              "    li.appendChild(percent);\n",
              "\n",
              "    outputElement.appendChild(li);\n",
              "\n",
              "    const fileDataPromise = new Promise((resolve) => {\n",
              "      const reader = new FileReader();\n",
              "      reader.onload = (e) => {\n",
              "        resolve(e.target.result);\n",
              "      };\n",
              "      reader.readAsArrayBuffer(file);\n",
              "    });\n",
              "    // Wait for the data to be ready.\n",
              "    let fileData = yield {\n",
              "      promise: fileDataPromise,\n",
              "      response: {\n",
              "        action: 'continue',\n",
              "      }\n",
              "    };\n",
              "\n",
              "    // Use a chunked sending to avoid message size limits. See b/62115660.\n",
              "    let position = 0;\n",
              "    do {\n",
              "      const length = Math.min(fileData.byteLength - position, MAX_PAYLOAD_SIZE);\n",
              "      const chunk = new Uint8Array(fileData, position, length);\n",
              "      position += length;\n",
              "\n",
              "      const base64 = btoa(String.fromCharCode.apply(null, chunk));\n",
              "      yield {\n",
              "        response: {\n",
              "          action: 'append',\n",
              "          file: file.name,\n",
              "          data: base64,\n",
              "        },\n",
              "      };\n",
              "\n",
              "      let percentDone = fileData.byteLength === 0 ?\n",
              "          100 :\n",
              "          Math.round((position / fileData.byteLength) * 100);\n",
              "      percent.textContent = `${percentDone}% done`;\n",
              "\n",
              "    } while (position < fileData.byteLength);\n",
              "  }\n",
              "\n",
              "  // All done.\n",
              "  yield {\n",
              "    response: {\n",
              "      action: 'complete',\n",
              "    }\n",
              "  };\n",
              "}\n",
              "\n",
              "scope.google = scope.google || {};\n",
              "scope.google.colab = scope.google.colab || {};\n",
              "scope.google.colab._files = {\n",
              "  _uploadFiles,\n",
              "  _uploadFilesContinue,\n",
              "};\n",
              "})(self);\n",
              "</script> "
            ],
            "text/plain": [
              "<IPython.core.display.HTML object>"
            ]
          },
          "metadata": {},
          "output_type": "display_data"
        },
        {
          "name": "stdout",
          "output_type": "stream",
          "text": [
            "Saving Dataset.zip to Dataset.zip\n"
          ]
        }
      ],
      "source": [
        "from google.colab import files\n",
        "uploaded = files.upload()"
      ]
    },
    {
      "cell_type": "markdown",
      "metadata": {
        "id": "alpXPPfVAWId"
      },
      "source": [
        "Unzip Dataset"
      ]
    },
    {
      "cell_type": "code",
      "execution_count": null,
      "metadata": {
        "id": "3PinbB9zAckQ"
      },
      "outputs": [],
      "source": [
        "!unzip Dataset.zip"
      ]
    },
    {
      "cell_type": "markdown",
      "metadata": {
        "id": "2lHwbjzcAhoo"
      },
      "source": [
        "Initiate Spark"
      ]
    },
    {
      "cell_type": "code",
      "execution_count": 9,
      "metadata": {
        "id": "zocc0pFTAkQF"
      },
      "outputs": [],
      "source": [
        "spark = SparkSession \\\n",
        "    .builder \\\n",
        "    .master(\"local[*]\") \\\n",
        "    .appName(\"test\") \\\n",
        "    .getOrCreate()"
      ]
    },
    {
      "cell_type": "code",
      "execution_count": null,
      "metadata": {
        "colab": {
          "base_uri": "https://localhost:8080/",
          "height": 219
        },
        "id": "CJt0cwpaAoRx",
        "outputId": "2a17b05d-11e3-4a82-b421-89dde8f56631"
      },
      "outputs": [
        {
          "data": {
            "text/html": [
              "\n",
              "            <div>\n",
              "                <p><b>SparkSession - in-memory</b></p>\n",
              "                \n",
              "        <div>\n",
              "            <p><b>SparkContext</b></p>\n",
              "\n",
              "            <p><a href=\"http://e870b9c5218d:4040\">Spark UI</a></p>\n",
              "\n",
              "            <dl>\n",
              "              <dt>Version</dt>\n",
              "                <dd><code>v2.4.4</code></dd>\n",
              "              <dt>Master</dt>\n",
              "                <dd><code>local[*]</code></dd>\n",
              "              <dt>AppName</dt>\n",
              "                <dd><code>test</code></dd>\n",
              "            </dl>\n",
              "        </div>\n",
              "        \n",
              "            </div>\n",
              "        "
            ],
            "text/plain": [
              "<pyspark.sql.session.SparkSession at 0x7fe4da859a90>"
            ]
          },
          "execution_count": 107,
          "metadata": {},
          "output_type": "execute_result"
        }
      ],
      "source": [
        "spark"
      ]
    },
    {
      "cell_type": "markdown",
      "metadata": {
        "id": "vKK3vC2cCpXS"
      },
      "source": [
        "Load Data Akun Twitter(CSV)"
      ]
    },
    {
      "cell_type": "code",
      "execution_count": 94,
      "metadata": {
        "id": "K_-7vIf_DVVo"
      },
      "outputs": [],
      "source": [
        "akunTwitter = spark.read. \\\n",
        "  format(\"csv\"). \\\n",
        "  option(\"inferSchema\",\"true\"). \\\n",
        "  option(\"header\",\"true\"). \\\n",
        "  option(\"parserLib\",\"univocity\"). \\\n",
        "  option(\"dilimiter\",\",\"). \\\n",
        "  load(\"Dataset/exercise/AkunTwitter_POS.csv\")"
      ]
    },
    {
      "cell_type": "code",
      "execution_count": null,
      "metadata": {
        "colab": {
          "base_uri": "https://localhost:8080/"
        },
        "id": "hbjRj6VxFBaY",
        "outputId": "6cb9e32e-1585-4fde-d56b-9fa308bff819"
      },
      "outputs": [],
      "source": [
        "akunTwitter.show()\n",
        "akunTwitter.printSchema()\n",
        "akunTwitter.select(count(\"id\")).show()"
      ]
    },
    {
      "cell_type": "markdown",
      "metadata": {
        "id": "OFsgo7wIcgNs"
      },
      "source": [
        "**Filter data official account PT.POS INDONESIA from AkunTwitter_POS.csv**"
      ]
    },
    {
      "cell_type": "code",
      "execution_count": null,
      "metadata": {
        "colab": {
          "base_uri": "https://localhost:8080/"
        },
        "id": "w9ap0tuta3uT",
        "outputId": "63134143-6d4f-48df-83ec-518792a48796"
      },
      "outputs": [],
      "source": [
        "filterAkun = akunTwitter.where(akunTwitter['user_id'] != 147137991 )\n",
        "filterAkun.show(10)\n",
        "filterAkun.select(count(\"id\")).show()\n",
        "filterAkun.groupBy(\"created_at\").count().show(5)"
      ]
    },
    {
      "cell_type": "code",
      "execution_count": 112,
      "metadata": {
        "colab": {
          "base_uri": "https://localhost:8080/"
        },
        "id": "12HubbeEHDRT",
        "outputId": "ceeaa3a7-3148-460c-e619-2461a0948b7e"
      },
      "outputs": [
        {
          "name": "stdout",
          "output_type": "stream",
          "text": [
            "+------------+--------------------+-------+\n",
            "|    username|               tweet| source|\n",
            "+------------+--------------------+-------+\n",
            "|kabarinegeri|Dengan POSGIRO MO...|Twitter|\n",
            "|kabarinegeri|Dengan adanya Lay...|Twitter|\n",
            "|kabarinegeri|Hadirnya POSGIRO ...|Twitter|\n",
            "|kabarinegeri|Layanan Giropos, ...|Twitter|\n",
            "|kabarinegeri|Perubahan inilah ...|Twitter|\n",
            "|kabarinegeri|Paradigma tersebu...|Twitter|\n",
            "|kabarinegeri|Dengan kata lain,...|Twitter|\n",
            "|kabarinegeri|Disrupsi tersebut...|Twitter|\n",
            "|kabarinegeri|Bagi @PosIndonesi...|Twitter|\n",
            "|kabarinegeri|Ekonomi digital a...|Twitter|\n",
            "|kabarinegeri|Tidak berhenti di...|Twitter|\n",
            "|kabarinegeri|Perlahan tapi pas...|Twitter|\n",
            "|kabarinegeri|Berbagai tantanga...|Twitter|\n",
            "|kabarinegeri|Hidup selama lebi...|Twitter|\n",
            "|kabarinegeri|Senyum kebahagiaa...|Twitter|\n",
            "|kabarinegeri|Program kirim buk...|Twitter|\n",
            "|kabarinegeri|H-4 kirim buku gr...|Twitter|\n",
            "|kabarinegeri|Bagaimana dengan ...|Twitter|\n",
            "|kabarinegeri|Pos Indonesia seb...|Twitter|\n",
            "|kabarinegeri|Kenapa bisa begit...|Twitter|\n",
            "+------------+--------------------+-------+\n",
            "only showing top 20 rows\n",
            "\n"
          ]
        }
      ],
      "source": [
        "cleanAkun = filterAkun.select(\"username\", \"tweet\", lit(\"Twitter\").alias(\"source\"))\n",
        "cleanAkun.show()"
      ]
    },
    {
      "cell_type": "markdown",
      "metadata": {
        "id": "omYyTSe9TKnI"
      },
      "source": [
        "Load data Hashtag Twitter (CSV)"
      ]
    },
    {
      "cell_type": "code",
      "execution_count": 113,
      "metadata": {
        "id": "aDy9Wfw0QQMI"
      },
      "outputs": [],
      "source": [
        "hTwitter = spark.read. \\\n",
        "  format(\"csv\"). \\\n",
        "  option(\"inferSchema\",\"true\"). \\\n",
        "  option(\"header\",\"true\"). \\\n",
        "  option(\"parserLib\",\"univocity\"). \\\n",
        "  option(\"delimiter\",\",\"). \\\n",
        "  load(\"Dataset/exercise/HashtagTwitter_POS.csv\")"
      ]
    },
    {
      "cell_type": "code",
      "execution_count": null,
      "metadata": {
        "colab": {
          "base_uri": "https://localhost:8080/"
        },
        "id": "6DjMtPsgPM7O",
        "outputId": "94a005ce-2be3-46b0-b152-9fd5716d3250"
      },
      "outputs": [],
      "source": [
        "hTwitter.show(5)\n",
        "# hTwitter.printSchema()\n",
        "# hTwitter.select(count(\"id\")).show()\n"
      ]
    },
    {
      "cell_type": "markdown",
      "metadata": {
        "id": "rG0J7mkGb_gB"
      },
      "source": [
        "**Filter data official account PT.POS INDONESIA from HashtagTwitter_POS.csv**"
      ]
    },
    {
      "cell_type": "code",
      "execution_count": null,
      "metadata": {
        "colab": {
          "base_uri": "https://localhost:8080/"
        },
        "id": "p2BuaQXUW8os",
        "outputId": "e4919b6d-8300-47a5-fd5b-5e00808e9821"
      },
      "outputs": [],
      "source": [
        "\n",
        "filterHashtag= hTwitter.where(hTwitter['user_id'] != 147137991)  # filter berdasarkan user_id\n",
        "filterHashtag.show(10)\n",
        "# filterHashtag.select(count(\"username\")).show()\n",
        "# filterHashtag.groupBy(\"created_at\").count().show(5)\n",
        "filterHashtag.printSchema()\n"
      ]
    },
    {
      "cell_type": "code",
      "execution_count": 116,
      "metadata": {
        "colab": {
          "base_uri": "https://localhost:8080/"
        },
        "id": "SyYxXAv6GaTy",
        "outputId": "89f64ede-34d4-4c7f-ba2c-7f252c806f28"
      },
      "outputs": [
        {
          "name": "stdout",
          "output_type": "stream",
          "text": [
            "+---------------+--------------------+-------+\n",
            "|       username|               tweet| source|\n",
            "+---------------+--------------------+-------+\n",
            "|   kantorpospbg|Ada Kiriman Uang?...|Twitter|\n",
            "|       detikcom|Resi Pos merupaka...|Twitter|\n",
            "|         k59300|#Repost posindone...|Twitter|\n",
            "| amantepatwaktu|Kenali Pos sedari...|Twitter|\n",
            "|   kantorpospbg|#Repost posindone...|Twitter|\n",
            "|         k59300|#Repost posindone...|Twitter|\n",
            "|      tokondutz|Sale cd audio  #s...|Twitter|\n",
            "|      tokondutz|Sale cd audio  #s...|Twitter|\n",
            "|   kantorpospbg|#Repost posindone...|Twitter|\n",
            "| aboben_variasi|Kita ga cuma mela...|Twitter|\n",
            "|   therapistsby|Ready stock #dild...|Twitter|\n",
            "|      hardy49jr|Riding lagi.. ngu...|Twitter|\n",
            "|   kantorpospbg|Selalu Sigap Memb...|Twitter|\n",
            "|hanayuniartii11|At-- #PosIndonesi...|Twitter|\n",
            "|   kantorposjks|272th #posindones...|Twitter|\n",
            "|   kantorpospbg|#Repost posindone...|Twitter|\n",
            "|      agityagit|IKATAN MOTOR POS ...|Twitter|\n",
            "|         k59300|Acara Reward Q1 T...|Twitter|\n",
            "|    kosasihsony|@PosIndonesia sti...|Twitter|\n",
            "|   kantorpospbg|#Repost posindone...|Twitter|\n",
            "+---------------+--------------------+-------+\n",
            "only showing top 20 rows\n",
            "\n"
          ]
        }
      ],
      "source": [
        "cleanHashtag = filterHashtag.select(\"username\", \"tweet\", lit(\"Twitter\").alias(\"source\"))\n",
        "cleanHashtag.show()"
      ]
    },
    {
      "cell_type": "markdown",
      "metadata": {
        "id": "B6dwUR-rTUTB"
      },
      "source": [
        "Load data Instagram Pos (JSON)"
      ]
    },
    {
      "cell_type": "code",
      "execution_count": 102,
      "metadata": {
        "id": "7qgz5I2BTaed"
      },
      "outputs": [],
      "source": [
        "instagramPos = spark.read.format(\"json\").load(\"Dataset/exercise/Instagram_POS.json\")"
      ]
    },
    {
      "cell_type": "code",
      "execution_count": 103,
      "metadata": {
        "colab": {
          "base_uri": "https://localhost:8080/"
        },
        "id": "S-hu--qITzRh",
        "outputId": "b27da3af-f92f-4f0a-9927-148783e64538"
      },
      "outputs": [
        {
          "name": "stdout",
          "output_type": "stream",
          "text": [
            "+--------------------+--------------------+--------------------+--------------------+--------------------+\n",
            "|             caption|            comments|            datetime|            img_urls|                 key|\n",
            "+--------------------+--------------------+--------------------+--------------------+--------------------+\n",
            "|Oranger menjaga s...|[[mamah.asyraf, C...|2019-07-13T04:06:...|[https://scontent...|https://www.insta...|\n",
            "|Oranger, layanan ...|[[rizqimuhammad77...|2019-07-12T09:55:...|[https://scontent...|https://www.insta...|\n",
            "|Selamat hari kope...|[[evan_mardiyanto...|2019-07-12T02:21:...|[https://scontent...|https://www.insta...|\n",
            "|Kuliah? di @polte...|[[dicky.ra_, @pos...|2019-07-11T05:19:...|[https://scontent...|https://www.insta...|\n",
            "|Selamat ulang tah...|[[hey.rudd, Kak.....|2019-07-11T01:22:...|[https://scontent...|https://www.insta...|\n",
            "|Kiriman lewat Pos...|[[rienlilitanty, ...|2019-07-10T10:46:...|[https://scontent...|https://www.insta...|\n",
            "|Sedang mencari ka...|[[nurdianing, min...|2019-07-10T07:08:...|[https://scontent...|https://www.insta...|\n",
            "|Lacak kiriman, ca...|[[roadsins, @posi...|2019-07-10T05:15:...|[https://scontent...|https://www.insta...|\n",
            "|Mau layanan Pos I...|[[posindonesia.ig...|2019-07-09T11:33:...|[https://scontent...|https://www.insta...|\n",
            "|Oranger Pos Indon...|[[w.hattari, Ada ...|2019-07-09T08:00:...|[https://scontent...|https://www.insta...|\n",
            "|Meriah, ceria di ...|[[aqmalfrz, manta...|2019-07-09T06:58:...|[https://scontent...|https://www.insta...|\n",
            "|Sumpah Palapa men...|                null|2019-07-09T05:05:...|[https://scontent...|https://www.insta...|\n",
            "|Selamat ulang tah...|[[selaputdarakemb...|2019-07-09T00:00:...|[https://scontent...|https://www.insta...|\n",
            "|Duh kirimannya ba...|[[dwikipriya86, @...|2019-07-08T06:39:...|[https://scontent...|https://www.insta...|\n",
            "|Dengan semangat y...|[[syamsul_manalu2...|2019-07-07T11:29:...|[https://scontent...|https://www.insta...|\n",
            "|Keluarga Besar Po...|[[gembong_sugiyar...|2019-07-07T02:18:...|[https://scontent...|https://www.insta...|\n",
            "|Hati-hati dalam m...|[[posindonesia.ig...|2019-07-06T14:15:...|[https://scontent...|https://www.insta...|\n",
            "|Menemani malam mi...|[[posindonesia.ig...|2019-07-06T13:01:...|[https://scontent...|https://www.insta...|\n",
            "|Selamat ulang tah...|[[posindonesia.ig...|2019-07-06T01:07:...|[https://scontent...|https://www.insta...|\n",
            "|Semakin sukses, s...|[[alivmart, @posi...|2019-07-05T06:54:...|[https://scontent...|https://www.insta...|\n",
            "+--------------------+--------------------+--------------------+--------------------+--------------------+\n",
            "only showing top 20 rows\n",
            "\n",
            "root\n",
            " |-- caption: string (nullable = true)\n",
            " |-- comments: array (nullable = true)\n",
            " |    |-- element: struct (containsNull = true)\n",
            " |    |    |-- author: string (nullable = true)\n",
            " |    |    |-- comment: string (nullable = true)\n",
            " |-- datetime: string (nullable = true)\n",
            " |-- img_urls: array (nullable = true)\n",
            " |    |-- element: string (containsNull = true)\n",
            " |-- key: string (nullable = true)\n",
            "\n"
          ]
        }
      ],
      "source": [
        "instagramPos.show()\n",
        "instagramPos.printSchema()\n"
      ]
    },
    {
      "cell_type": "code",
      "execution_count": 104,
      "metadata": {
        "id": "gBdI4G0HzURk"
      },
      "outputs": [],
      "source": [
        "def FlatDF(schema, prefix=None):\n",
        "        fields = []\n",
        "        for field in schema.fields:\n",
        "            name = prefix + '.' + field.name if prefix else field.name\n",
        "            dtype = field.dataType\n",
        "            if isinstance(dtype, ArrayType):\n",
        "                dtype = dtype.elementType\n",
        "\n",
        "            if isinstance(dtype, StructType):\n",
        "                fields += FlatDF(dtype, prefix=name)\n",
        "            else:\n",
        "                fields.append(name)\n",
        "\n",
        "        return fields"
      ]
    },
    {
      "cell_type": "code",
      "execution_count": null,
      "metadata": {
        "colab": {
          "base_uri": "https://localhost:8080/"
        },
        "id": "MqefV94Ezroq",
        "outputId": "68dad192-5174-4963-cb9a-d73322aec7b1"
      },
      "outputs": [],
      "source": [
        "instagramPos = instagramPos.select(FlatDF(instagramPos.schema))\n",
        "instagramPos.printSchema()\n",
        "instagramPos.show()\n"
      ]
    },
    {
      "cell_type": "code",
      "execution_count": 106,
      "metadata": {
        "id": "8QGBgO9lKn0N"
      },
      "outputs": [],
      "source": [
        "cleanInsta = instagramPos.withColumn(\"tmp\", arrays_zip(\"author\", \"comment\")) \\\n",
        "          .withColumn(\"tmp\", explode(\"tmp\")) \\\n",
        "          .select(col(\"tmp.author\"), col(\"tmp.comment\"))"
      ]
    },
    {
      "cell_type": "code",
      "execution_count": 107,
      "metadata": {
        "colab": {
          "base_uri": "https://localhost:8080/"
        },
        "id": "3aQB9B-oK2Hp",
        "outputId": "9888603a-60ae-4001-f06b-cf0b8d530ba6"
      },
      "outputs": [
        {
          "name": "stdout",
          "output_type": "stream",
          "text": [
            "+-------------------+--------------------+---------+\n",
            "|             author|             comment|   source|\n",
            "+-------------------+--------------------+---------+\n",
            "|       mamah.asyraf|              Cek DM|Instagram|\n",
            "|    posindonesia.ig|Baik, Sahabat, mo...|Instagram|\n",
            "|    akhirini_husein|Kiriman saya tida...|Instagram|\n",
            "|    posindonesia.ig|Halo, Sahabat, bi...|Instagram|\n",
            "|             figha_|Pengambilan paket...|Instagram|\n",
            "|    posindonesia.ig|Halo, Sahabat. Mo...|Instagram|\n",
            "|             figha_|@posindonesia.ig ...|Instagram|\n",
            "|    posindonesia.ig|Sama-sama Sahabat...|Instagram|\n",
            "|       phytastoreso|Kak tolong cek dm...|Instagram|\n",
            "|    posindonesia.ig|Baik, telah kami ...|Instagram|\n",
            "|             figha_|Kalo mengambil pa...|Instagram|\n",
            "|    rizqimuhammad77|@ari_hr04 @adi047...|Instagram|\n",
            "|griyakulakannganjuk|Kirim paket belum...|Instagram|\n",
            "|             snttaa|Tolong cek STR040...|Instagram|\n",
            "|           widie489|https://ecoracing...|Instagram|\n",
            "|    posindonesia.ig|Boleh diinformasi...|Instagram|\n",
            "|    posindonesia.ig|Menurut investiga...|Instagram|\n",
            "|   keziacatherine.s|Min, bis Surat su...|Instagram|\n",
            "|    posindonesia.ig|Bisa surat masih ...|Instagram|\n",
            "|      audreygraciam|Hi min, tolong li...|Instagram|\n",
            "+-------------------+--------------------+---------+\n",
            "only showing top 20 rows\n",
            "\n"
          ]
        }
      ],
      "source": [
        "cleanInsta = cleanInsta.withColumn(\"source\", lit(\"Instagram\"))\n",
        "cleanInsta.show()"
      ]
    },
    {
      "cell_type": "code",
      "execution_count": 108,
      "metadata": {
        "colab": {
          "base_uri": "https://localhost:8080/"
        },
        "id": "qS_v9i3ZKNV8",
        "outputId": "12706c80-837c-4377-e862-b9cce2d53c9e"
      },
      "outputs": [
        {
          "name": "stdout",
          "output_type": "stream",
          "text": [
            "+-------------------+--------------------+---------+\n",
            "|             author|             comment|   source|\n",
            "+-------------------+--------------------+---------+\n",
            "|       mamah.asyraf|              Cek DM|Instagram|\n",
            "|    akhirini_husein|Kiriman saya tida...|Instagram|\n",
            "|             figha_|Pengambilan paket...|Instagram|\n",
            "|             figha_|@posindonesia.ig ...|Instagram|\n",
            "|       phytastoreso|Kak tolong cek dm...|Instagram|\n",
            "|             figha_|Kalo mengambil pa...|Instagram|\n",
            "|    rizqimuhammad77|@ari_hr04 @adi047...|Instagram|\n",
            "|griyakulakannganjuk|Kirim paket belum...|Instagram|\n",
            "|             snttaa|Tolong cek STR040...|Instagram|\n",
            "|           widie489|https://ecoracing...|Instagram|\n",
            "|   keziacatherine.s|Min, bis Surat su...|Instagram|\n",
            "|      audreygraciam|Hi min, tolong li...|Instagram|\n",
            "| pt.mitajayamandiri|Pagi, mau tanya u...|Instagram|\n",
            "| pt.mitajayamandiri|untuk kantor yang...|Instagram|\n",
            "|          lutviyyah|Pagi, tolong di c...|Instagram|\n",
            "|         wawannnn__|Kak kok paket say...|Instagram|\n",
            "|         wawannnn__|@posindonesia.ig ...|Instagram|\n",
            "|          lutviyyah|@posindonesia.ig ...|Instagram|\n",
            "|          lutviyyah|@posindonesia.ig ...|Instagram|\n",
            "|    evan_mardiyanto|Min mohon segera ...|Instagram|\n",
            "+-------------------+--------------------+---------+\n",
            "only showing top 20 rows\n",
            "\n",
            "root\n",
            " |-- author: string (nullable = true)\n",
            " |-- comment: string (nullable = true)\n",
            " |-- source: string (nullable = false)\n",
            "\n"
          ]
        }
      ],
      "source": [
        "filterInstagram = cleanInsta.where(cleanInsta['author'] != \"posindonesia.ig\" )  \n",
        "filterInstagram.show()\n",
        "filterInstagram.printSchema()"
      ]
    },
    {
      "cell_type": "code",
      "execution_count": 117,
      "metadata": {
        "id": "joEZGwvXV5hq"
      },
      "outputs": [],
      "source": [
        "cleanInsta = filterInstagram.select(col(\"author\").alias(\"username\"), col(\"comment\").alias(\"content\"), \"source\")\n",
        "cleanAkun = cleanAkun.select(\"username\", col(\"tweet\").alias(\"content\"), \"source\")\n",
        "cleanHashtag = cleanHashtag.select(\"username\", col(\"tweet\").alias(\"content\"), \"source\")"
      ]
    },
    {
      "cell_type": "markdown",
      "metadata": {
        "id": "AE59jJ0qMNZA"
      },
      "source": [
        "**Joining all Data**"
      ]
    },
    {
      "cell_type": "code",
      "execution_count": 118,
      "metadata": {
        "id": "cdMrbCkhMU6U"
      },
      "outputs": [],
      "source": [
        "from functools import reduce\n",
        "from pyspark.sql import DataFrame\n",
        "\n",
        "dfs = [cleanInsta, cleanAkun, cleanHashtag]\n",
        "\n",
        "df_union = reduce(DataFrame.unionAll, dfs)"
      ]
    },
    {
      "cell_type": "code",
      "execution_count": 119,
      "metadata": {
        "id": "Kz1Gc07_MsRr"
      },
      "outputs": [],
      "source": [
        "for c, t in df_union.dtypes:\n",
        "        if t == \"string\":\n",
        "            df_union = df_union.withColumn(c, regexp_replace(c, \"[^\\w\\s]\", \"\"))"
      ]
    },
    {
      "cell_type": "code",
      "execution_count": 120,
      "metadata": {
        "id": "YUrIme-3M3f_"
      },
      "outputs": [],
      "source": [
        "df_union.coalesce(1).write.format(\"csv\").mode(\"overwrite\").option(\"header\", \"true\").save('DataSet/exercise/union_data.csv')\n"
      ]
    },
    {
      "cell_type": "code",
      "execution_count": 121,
      "metadata": {
        "colab": {
          "base_uri": "https://localhost:8080/"
        },
        "id": "6zK71euJNVC9",
        "outputId": "d7caaa4f-9b99-47c1-fc06-f29b7f8a9e70"
      },
      "outputs": [
        {
          "name": "stdout",
          "output_type": "stream",
          "text": [
            "+-------------------+--------------------+---------+\n",
            "|           username|             content|   source|\n",
            "+-------------------+--------------------+---------+\n",
            "|        mamahasyraf|              Cek DM|Instagram|\n",
            "|    akhirini_husein|Kiriman saya tida...|Instagram|\n",
            "|             figha_|Pengambilan paket...|Instagram|\n",
            "|             figha_|posindonesiaig te...|Instagram|\n",
            "|       phytastoreso|Kak tolong cek dm...|Instagram|\n",
            "|             figha_|Kalo mengambil pa...|Instagram|\n",
            "|    rizqimuhammad77|ari_hr04 adi04731...|Instagram|\n",
            "|griyakulakannganjuk|Kirim paket belum...|Instagram|\n",
            "|             snttaa|Tolong cek STR040...|Instagram|\n",
            "|           widie489|httpsecoracingwin...|Instagram|\n",
            "|    keziacatherines|Min bis Surat sud...|Instagram|\n",
            "|      audreygraciam|Hi min tolong lia...|Instagram|\n",
            "|  ptmitajayamandiri|Pagi mau tanya un...|Instagram|\n",
            "|  ptmitajayamandiri|untuk kantor yang...|Instagram|\n",
            "|          lutviyyah|Pagi tolong di ch...|Instagram|\n",
            "|         wawannnn__|Kak kok paket say...|Instagram|\n",
            "|         wawannnn__|posindonesiaig ce...|Instagram|\n",
            "|          lutviyyah|posindonesiaig sa...|Instagram|\n",
            "|          lutviyyah|posindonesiaig to...|Instagram|\n",
            "|    evan_mardiyanto|Min mohon segera ...|Instagram|\n",
            "+-------------------+--------------------+---------+\n",
            "only showing top 20 rows\n",
            "\n"
          ]
        }
      ],
      "source": [
        "df_union.show()"
      ]
    }
  ],
  "metadata": {
    "colab": {
      "collapsed_sections": [],
      "provenance": []
    },
    "kernelspec": {
      "display_name": "Python 3.10.6 ('project_hadoop': venv)",
      "language": "python",
      "name": "python3"
    },
    "language_info": {
      "name": "python",
      "version": "3.10.6"
    },
    "vscode": {
      "interpreter": {
        "hash": "238ed0e1f2bd5b57659c34e79f8199f9dc9a236ec18dd400b31e113c4b66ee90"
      }
    }
  },
  "nbformat": 4,
  "nbformat_minor": 0
}
